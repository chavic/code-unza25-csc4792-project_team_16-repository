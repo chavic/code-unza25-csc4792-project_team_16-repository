{
  "cells": [
    {
      "cell_type": "markdown",
      "metadata": {},
      "source": [
        "# Parliament Relevance Classifier\n",
        "## CSC 4792 Group Project - Team 16\n",
        "\n",
        "**Topic 2.1.10**: Classify each MP's response as *relevant* or *not relevant* to the motion\n",
        "\n",
        "**Team Members**: [Add team member names here]\n",
        "\n",
        "**Date**: 2024\n",
        "\n",
        "---\n",
        "\n",
        "### Problem Statement\n",
        "Given a motion and the debate transcript for a parliamentary sitting, label every MP utterance as **Relevant** or **NotRelevant** to that motion.\n",
        "\n",
        "### Approach\n",
        "This notebook follows the CRISP-DM methodology through all phases:\n",
        "- **[BU]** Business Understanding\n",
        "- **[DU]** Data Understanding  \n",
        "- **[DP]** Data Preparation\n",
        "- **[MO]** Modeling\n",
        "- **[EV]** Evaluation\n",
        "- **[DE]** Deployment\n"
      ]
    }
  ],
  "metadata": {
    "language_info": {
      "name": "python"
    }
  },
  "nbformat": 4,
  "nbformat_minor": 2
}
